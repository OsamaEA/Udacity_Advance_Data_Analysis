{
 "cells": [
  {
   "cell_type": "markdown",
   "metadata": {},
   "source": [
    "# Project: Investigate a Dataset (No-show appointments)\n",
    "\n",
    "## Table of Contents\n",
    "<ul>\n",
    "<li><a href=\"#intro\">Introduction</a></li>\n",
    "<li><a href=\"#wrangling\">Data Wrangling</a></li>\n",
    "<li><a href=\"#eda\">Exploratory Data Analysis</a></li>\n",
    "<li><a href=\"#conclusions\">Conclusions</a></li>\n",
    "</ul>"
   ]
  },
  {
   "cell_type": "markdown",
   "metadata": {},
   "source": [
    "<a id='intro'></a>\n",
    "## Introduction\n",
    "\n",
    "This dataset is about No show appointments taken from kaggle which shows data of more than 110,000 patients which I think is a good big number to analyze, and it shows many different features of people who either showed at the appointment time or not.\n",
    "\n",
    "Based on this dataset, I will try to find out which factor basically affect the probability of showing in appointment, some of them may have positive relationship or negative one, some of them may not have a relationship, we will explore this through the following steps\n"
   ]
  },
  {
   "cell_type": "code",
   "execution_count": 1,
   "metadata": {},
   "outputs": [],
   "source": [
    "import numpy as np\n",
    "import pandas as pd\n",
    "import matplotlib as mpl\n",
    "import matplotlib.pyplot as plt\n",
    "%matplotlib inline"
   ]
  },
  {
   "cell_type": "markdown",
   "metadata": {},
   "source": [
    "<a id='wrangling'></a>\n",
    "## Data Wrangling\n",
    "\n",
    "\n",
    "### General Properties"
   ]
  },
  {
   "cell_type": "markdown",
   "metadata": {},
   "source": [
    "***Overview of the dataset***\n",
    "\n",
    "**General information:**\n",
    "I start analysing the data present to see if there are some missing data or not, I could easily see that there is no missing data of any column \\\n",
    "From describe method, we find out that some data are not logical such as the minimum age is a negative number, so we need to eliminate it later, we can also the average age and other data clear \\\n",
    "we can also find out that there is no duplicated data \\\n",
    "we can check to find that all data were collected in 2016 and from 81 neighbourhoods which would make a weight in analyzing the data given \\\n",
    "comparing Appointment day to schedueled day, we find out that in Appointment day column, only day is shown while time in format of hh:mm:ss is the same for all data whch should be neglected\n",
    "\n",
    "**Handicap data:** it shows that max value is 4, while I think it is expected to be on a scale from 0 to 1, similar to other data columns, since it is True or False, so we would convert any value higher than 0 to be 1"
   ]
  },
  {
   "cell_type": "code",
   "execution_count": 3,
   "metadata": {
    "scrolled": true
   },
   "outputs": [
    {
     "data": {
      "text/html": [
       "<div>\n",
       "<style scoped>\n",
       "    .dataframe tbody tr th:only-of-type {\n",
       "        vertical-align: middle;\n",
       "    }\n",
       "\n",
       "    .dataframe tbody tr th {\n",
       "        vertical-align: top;\n",
       "    }\n",
       "\n",
       "    .dataframe thead th {\n",
       "        text-align: right;\n",
       "    }\n",
       "</style>\n",
       "<table border=\"1\" class=\"dataframe\">\n",
       "  <thead>\n",
       "    <tr style=\"text-align: right;\">\n",
       "      <th></th>\n",
       "      <th>PatientId</th>\n",
       "      <th>AppointmentID</th>\n",
       "      <th>Gender</th>\n",
       "      <th>ScheduledDay</th>\n",
       "      <th>AppointmentDay</th>\n",
       "      <th>Age</th>\n",
       "      <th>Neighbourhood</th>\n",
       "      <th>Scholarship</th>\n",
       "      <th>Hipertension</th>\n",
       "      <th>Diabetes</th>\n",
       "      <th>Alcoholism</th>\n",
       "      <th>Handcap</th>\n",
       "      <th>SMS_received</th>\n",
       "      <th>No-show</th>\n",
       "    </tr>\n",
       "  </thead>\n",
       "  <tbody>\n",
       "    <tr>\n",
       "      <th>0</th>\n",
       "      <td>2.987250e+13</td>\n",
       "      <td>5642903</td>\n",
       "      <td>F</td>\n",
       "      <td>2016-04-29T18:38:08Z</td>\n",
       "      <td>2016-04-29T00:00:00Z</td>\n",
       "      <td>62</td>\n",
       "      <td>JARDIM DA PENHA</td>\n",
       "      <td>0</td>\n",
       "      <td>1</td>\n",
       "      <td>0</td>\n",
       "      <td>0</td>\n",
       "      <td>0</td>\n",
       "      <td>0</td>\n",
       "      <td>No</td>\n",
       "    </tr>\n",
       "    <tr>\n",
       "      <th>1</th>\n",
       "      <td>5.589978e+14</td>\n",
       "      <td>5642503</td>\n",
       "      <td>M</td>\n",
       "      <td>2016-04-29T16:08:27Z</td>\n",
       "      <td>2016-04-29T00:00:00Z</td>\n",
       "      <td>56</td>\n",
       "      <td>JARDIM DA PENHA</td>\n",
       "      <td>0</td>\n",
       "      <td>0</td>\n",
       "      <td>0</td>\n",
       "      <td>0</td>\n",
       "      <td>0</td>\n",
       "      <td>0</td>\n",
       "      <td>No</td>\n",
       "    </tr>\n",
       "    <tr>\n",
       "      <th>2</th>\n",
       "      <td>4.262962e+12</td>\n",
       "      <td>5642549</td>\n",
       "      <td>F</td>\n",
       "      <td>2016-04-29T16:19:04Z</td>\n",
       "      <td>2016-04-29T00:00:00Z</td>\n",
       "      <td>62</td>\n",
       "      <td>MATA DA PRAIA</td>\n",
       "      <td>0</td>\n",
       "      <td>0</td>\n",
       "      <td>0</td>\n",
       "      <td>0</td>\n",
       "      <td>0</td>\n",
       "      <td>0</td>\n",
       "      <td>No</td>\n",
       "    </tr>\n",
       "    <tr>\n",
       "      <th>3</th>\n",
       "      <td>8.679512e+11</td>\n",
       "      <td>5642828</td>\n",
       "      <td>F</td>\n",
       "      <td>2016-04-29T17:29:31Z</td>\n",
       "      <td>2016-04-29T00:00:00Z</td>\n",
       "      <td>8</td>\n",
       "      <td>PONTAL DE CAMBURI</td>\n",
       "      <td>0</td>\n",
       "      <td>0</td>\n",
       "      <td>0</td>\n",
       "      <td>0</td>\n",
       "      <td>0</td>\n",
       "      <td>0</td>\n",
       "      <td>No</td>\n",
       "    </tr>\n",
       "    <tr>\n",
       "      <th>4</th>\n",
       "      <td>8.841186e+12</td>\n",
       "      <td>5642494</td>\n",
       "      <td>F</td>\n",
       "      <td>2016-04-29T16:07:23Z</td>\n",
       "      <td>2016-04-29T00:00:00Z</td>\n",
       "      <td>56</td>\n",
       "      <td>JARDIM DA PENHA</td>\n",
       "      <td>0</td>\n",
       "      <td>1</td>\n",
       "      <td>1</td>\n",
       "      <td>0</td>\n",
       "      <td>0</td>\n",
       "      <td>0</td>\n",
       "      <td>No</td>\n",
       "    </tr>\n",
       "  </tbody>\n",
       "</table>\n",
       "</div>"
      ],
      "text/plain": [
       "      PatientId  AppointmentID Gender          ScheduledDay  \\\n",
       "0  2.987250e+13        5642903      F  2016-04-29T18:38:08Z   \n",
       "1  5.589978e+14        5642503      M  2016-04-29T16:08:27Z   \n",
       "2  4.262962e+12        5642549      F  2016-04-29T16:19:04Z   \n",
       "3  8.679512e+11        5642828      F  2016-04-29T17:29:31Z   \n",
       "4  8.841186e+12        5642494      F  2016-04-29T16:07:23Z   \n",
       "\n",
       "         AppointmentDay  Age      Neighbourhood  Scholarship  Hipertension  \\\n",
       "0  2016-04-29T00:00:00Z   62    JARDIM DA PENHA            0             1   \n",
       "1  2016-04-29T00:00:00Z   56    JARDIM DA PENHA            0             0   \n",
       "2  2016-04-29T00:00:00Z   62      MATA DA PRAIA            0             0   \n",
       "3  2016-04-29T00:00:00Z    8  PONTAL DE CAMBURI            0             0   \n",
       "4  2016-04-29T00:00:00Z   56    JARDIM DA PENHA            0             1   \n",
       "\n",
       "   Diabetes  Alcoholism  Handcap  SMS_received No-show  \n",
       "0         0           0        0             0      No  \n",
       "1         0           0        0             0      No  \n",
       "2         0           0        0             0      No  \n",
       "3         0           0        0             0      No  \n",
       "4         1           0        0             0      No  "
      ]
     },
     "execution_count": 3,
     "metadata": {},
     "output_type": "execute_result"
    }
   ],
   "source": [
    "#Loading Data\n",
    "data = pd.read_csv('noshowappointments-kagglev2-may-2016.csv')\n",
    "data.shape\n",
    "data.head()"
   ]
  },
  {
   "cell_type": "code",
   "execution_count": 4,
   "metadata": {},
   "outputs": [
    {
     "name": "stdout",
     "output_type": "stream",
     "text": [
      "<class 'pandas.core.frame.DataFrame'>\n",
      "RangeIndex: 110527 entries, 0 to 110526\n",
      "Data columns (total 14 columns):\n",
      " #   Column          Non-Null Count   Dtype  \n",
      "---  ------          --------------   -----  \n",
      " 0   PatientId       110527 non-null  float64\n",
      " 1   AppointmentID   110527 non-null  int64  \n",
      " 2   Gender          110527 non-null  object \n",
      " 3   ScheduledDay    110527 non-null  object \n",
      " 4   AppointmentDay  110527 non-null  object \n",
      " 5   Age             110527 non-null  int64  \n",
      " 6   Neighbourhood   110527 non-null  object \n",
      " 7   Scholarship     110527 non-null  int64  \n",
      " 8   Hipertension    110527 non-null  int64  \n",
      " 9   Diabetes        110527 non-null  int64  \n",
      " 10  Alcoholism      110527 non-null  int64  \n",
      " 11  Handcap         110527 non-null  int64  \n",
      " 12  SMS_received    110527 non-null  int64  \n",
      " 13  No-show         110527 non-null  object \n",
      "dtypes: float64(1), int64(8), object(5)\n",
      "memory usage: 11.8+ MB\n",
      "There is 0 rows missing from the data set\n"
     ]
    }
   ],
   "source": [
    "#finding out null values\n",
    "data.info()\n",
    "print('There is {} rows missing from the data set'.format(data.isnull().any().sum()))"
   ]
  },
  {
   "cell_type": "code",
   "execution_count": 5,
   "metadata": {},
   "outputs": [
    {
     "data": {
      "text/plain": [
       "[str, str, str, str, str]"
      ]
     },
     "execution_count": 5,
     "metadata": {},
     "output_type": "execute_result"
    }
   ],
   "source": [
    "#knowing df types\n",
    "data_types = [type(data['Gender'][0]),type(data['ScheduledDay'][0]),type(data['AppointmentDay'][0]),\n",
    "              type(data['Neighbourhood'][0]),type(data['No-show'][0])]\n",
    "data_types"
   ]
  },
  {
   "cell_type": "code",
   "execution_count": 6,
   "metadata": {},
   "outputs": [
    {
     "data": {
      "text/html": [
       "<div>\n",
       "<style scoped>\n",
       "    .dataframe tbody tr th:only-of-type {\n",
       "        vertical-align: middle;\n",
       "    }\n",
       "\n",
       "    .dataframe tbody tr th {\n",
       "        vertical-align: top;\n",
       "    }\n",
       "\n",
       "    .dataframe thead th {\n",
       "        text-align: right;\n",
       "    }\n",
       "</style>\n",
       "<table border=\"1\" class=\"dataframe\">\n",
       "  <thead>\n",
       "    <tr style=\"text-align: right;\">\n",
       "      <th></th>\n",
       "      <th>PatientId</th>\n",
       "      <th>AppointmentID</th>\n",
       "      <th>Age</th>\n",
       "      <th>Scholarship</th>\n",
       "      <th>Hipertension</th>\n",
       "      <th>Diabetes</th>\n",
       "      <th>Alcoholism</th>\n",
       "      <th>Handcap</th>\n",
       "      <th>SMS_received</th>\n",
       "    </tr>\n",
       "  </thead>\n",
       "  <tbody>\n",
       "    <tr>\n",
       "      <th>count</th>\n",
       "      <td>1.105270e+05</td>\n",
       "      <td>1.105270e+05</td>\n",
       "      <td>110527.000000</td>\n",
       "      <td>110527.000000</td>\n",
       "      <td>110527.000000</td>\n",
       "      <td>110527.000000</td>\n",
       "      <td>110527.000000</td>\n",
       "      <td>110527.000000</td>\n",
       "      <td>110527.000000</td>\n",
       "    </tr>\n",
       "    <tr>\n",
       "      <th>mean</th>\n",
       "      <td>1.474963e+14</td>\n",
       "      <td>5.675305e+06</td>\n",
       "      <td>37.088874</td>\n",
       "      <td>0.098266</td>\n",
       "      <td>0.197246</td>\n",
       "      <td>0.071865</td>\n",
       "      <td>0.030400</td>\n",
       "      <td>0.022248</td>\n",
       "      <td>0.321026</td>\n",
       "    </tr>\n",
       "    <tr>\n",
       "      <th>std</th>\n",
       "      <td>2.560949e+14</td>\n",
       "      <td>7.129575e+04</td>\n",
       "      <td>23.110205</td>\n",
       "      <td>0.297675</td>\n",
       "      <td>0.397921</td>\n",
       "      <td>0.258265</td>\n",
       "      <td>0.171686</td>\n",
       "      <td>0.161543</td>\n",
       "      <td>0.466873</td>\n",
       "    </tr>\n",
       "    <tr>\n",
       "      <th>min</th>\n",
       "      <td>3.921784e+04</td>\n",
       "      <td>5.030230e+06</td>\n",
       "      <td>-1.000000</td>\n",
       "      <td>0.000000</td>\n",
       "      <td>0.000000</td>\n",
       "      <td>0.000000</td>\n",
       "      <td>0.000000</td>\n",
       "      <td>0.000000</td>\n",
       "      <td>0.000000</td>\n",
       "    </tr>\n",
       "    <tr>\n",
       "      <th>25%</th>\n",
       "      <td>4.172614e+12</td>\n",
       "      <td>5.640286e+06</td>\n",
       "      <td>18.000000</td>\n",
       "      <td>0.000000</td>\n",
       "      <td>0.000000</td>\n",
       "      <td>0.000000</td>\n",
       "      <td>0.000000</td>\n",
       "      <td>0.000000</td>\n",
       "      <td>0.000000</td>\n",
       "    </tr>\n",
       "    <tr>\n",
       "      <th>50%</th>\n",
       "      <td>3.173184e+13</td>\n",
       "      <td>5.680573e+06</td>\n",
       "      <td>37.000000</td>\n",
       "      <td>0.000000</td>\n",
       "      <td>0.000000</td>\n",
       "      <td>0.000000</td>\n",
       "      <td>0.000000</td>\n",
       "      <td>0.000000</td>\n",
       "      <td>0.000000</td>\n",
       "    </tr>\n",
       "    <tr>\n",
       "      <th>75%</th>\n",
       "      <td>9.439172e+13</td>\n",
       "      <td>5.725524e+06</td>\n",
       "      <td>55.000000</td>\n",
       "      <td>0.000000</td>\n",
       "      <td>0.000000</td>\n",
       "      <td>0.000000</td>\n",
       "      <td>0.000000</td>\n",
       "      <td>0.000000</td>\n",
       "      <td>1.000000</td>\n",
       "    </tr>\n",
       "    <tr>\n",
       "      <th>max</th>\n",
       "      <td>9.999816e+14</td>\n",
       "      <td>5.790484e+06</td>\n",
       "      <td>115.000000</td>\n",
       "      <td>1.000000</td>\n",
       "      <td>1.000000</td>\n",
       "      <td>1.000000</td>\n",
       "      <td>1.000000</td>\n",
       "      <td>4.000000</td>\n",
       "      <td>1.000000</td>\n",
       "    </tr>\n",
       "  </tbody>\n",
       "</table>\n",
       "</div>"
      ],
      "text/plain": [
       "          PatientId  AppointmentID            Age    Scholarship  \\\n",
       "count  1.105270e+05   1.105270e+05  110527.000000  110527.000000   \n",
       "mean   1.474963e+14   5.675305e+06      37.088874       0.098266   \n",
       "std    2.560949e+14   7.129575e+04      23.110205       0.297675   \n",
       "min    3.921784e+04   5.030230e+06      -1.000000       0.000000   \n",
       "25%    4.172614e+12   5.640286e+06      18.000000       0.000000   \n",
       "50%    3.173184e+13   5.680573e+06      37.000000       0.000000   \n",
       "75%    9.439172e+13   5.725524e+06      55.000000       0.000000   \n",
       "max    9.999816e+14   5.790484e+06     115.000000       1.000000   \n",
       "\n",
       "        Hipertension       Diabetes     Alcoholism        Handcap  \\\n",
       "count  110527.000000  110527.000000  110527.000000  110527.000000   \n",
       "mean        0.197246       0.071865       0.030400       0.022248   \n",
       "std         0.397921       0.258265       0.171686       0.161543   \n",
       "min         0.000000       0.000000       0.000000       0.000000   \n",
       "25%         0.000000       0.000000       0.000000       0.000000   \n",
       "50%         0.000000       0.000000       0.000000       0.000000   \n",
       "75%         0.000000       0.000000       0.000000       0.000000   \n",
       "max         1.000000       1.000000       1.000000       4.000000   \n",
       "\n",
       "        SMS_received  \n",
       "count  110527.000000  \n",
       "mean        0.321026  \n",
       "std         0.466873  \n",
       "min         0.000000  \n",
       "25%         0.000000  \n",
       "50%         0.000000  \n",
       "75%         1.000000  \n",
       "max         1.000000  "
      ]
     },
     "execution_count": 6,
     "metadata": {},
     "output_type": "execute_result"
    }
   ],
   "source": [
    "#statistical describtion\n",
    "data.describe()"
   ]
  },
  {
   "cell_type": "code",
   "execution_count": 7,
   "metadata": {},
   "outputs": [
    {
     "data": {
      "text/plain": [
       "0"
      ]
     },
     "execution_count": 7,
     "metadata": {},
     "output_type": "execute_result"
    }
   ],
   "source": [
    "#looking if there is any duplicated data\n",
    "data.duplicated().sum()"
   ]
  },
  {
   "cell_type": "code",
   "execution_count": 8,
   "metadata": {},
   "outputs": [
    {
     "data": {
      "text/plain": [
       "81"
      ]
     },
     "execution_count": 8,
     "metadata": {},
     "output_type": "execute_result"
    }
   ],
   "source": [
    "#finding out no. of Neghbourhoods so if it would be a weighting factor or not\n",
    "data['Neighbourhood'].nunique()"
   ]
  },
  {
   "cell_type": "code",
   "execution_count": 9,
   "metadata": {},
   "outputs": [
    {
     "data": {
      "text/plain": [
       "110527"
      ]
     },
     "execution_count": 9,
     "metadata": {},
     "output_type": "execute_result"
    }
   ],
   "source": [
    "#to find out if this survey was taken in 2016 or in many years\n",
    "data['AppointmentDay'].str.contains('2016').sum()"
   ]
  },
  {
   "cell_type": "code",
   "execution_count": 10,
   "metadata": {},
   "outputs": [
    {
     "data": {
      "text/plain": [
       "(27, 103549)"
      ]
     },
     "execution_count": 10,
     "metadata": {},
     "output_type": "execute_result"
    }
   ],
   "source": [
    "#to find out if the HH:MM:SS is shown correctly in Appointment day or not since it always shows 00:00:00\n",
    "data['AppointmentDay'].nunique(), data['ScheduledDay'].nunique()"
   ]
  },
  {
   "cell_type": "code",
   "execution_count": 11,
   "metadata": {},
   "outputs": [
    {
     "data": {
      "text/plain": [
       "No     88208\n",
       "Yes    22319\n",
       "Name: No-show, dtype: int64"
      ]
     },
     "execution_count": 11,
     "metadata": {},
     "output_type": "execute_result"
    }
   ],
   "source": [
    "#finding out how many people showed and how many did not show\n",
    "data['No-show'].value_counts()"
   ]
  },
  {
   "cell_type": "markdown",
   "metadata": {},
   "source": [
    "\n",
    "### Data Cleaning (Optimizing the data set!)"
   ]
  },
  {
   "cell_type": "markdown",
   "metadata": {},
   "source": [
    "***Data Cleaninng*** \n",
    "\n",
    "**Unnecessary data:** we can see that patient ID and Appointment ID are not necessary so we would drop them from our dataset\n",
    "\n",
    "**date time:** we need to convert the dates from a string to datetime format so we can modify and look up through it, and then we check out the type of date column to make sure it is date type now \n",
    "\n",
    "Now we want to calculate delta time (Duration) between the scheduled date and the appointment date which is the delay_time, and will be used later to see if it affects the patient NO SHOW\n",
    "\n",
    "**Age issue:** we first drop data of ages < 0 since it is only one row and can be dropped not affecting the dataset, we can also find out that there are many cases where the age is zero, which is accepted since it is showing integer years age, so it would mean babies at age of less than 6 months\n",
    "\n",
    "**Handcap:** we should fix the problem of values higher than 1, we should not drop them since they are a lot almost 400 rows, so we assume them to be 1\n",
    "\n",
    "**Statistical Describe:** we find out that some data need to be fixed more since delay time is negative in 5 rows which means data entered by mistake, Those data would be dropped when and only when exploring the relationship between delay duration and NO SHOW response.\\\n",
    "Further NOTE: (All those persons did not show on time) so I think this happened due to wrong data entry so we should drop those 5 rows from our dataset\n",
    "\n",
    "**No Show converted to 1 and 0:** to be easily used to find the average and mean, but the new column is (Show) so 1 means show and 0 means no-show\n",
    "\n",
    "**Ill data:** we added it to mention if the patient has any history of diseases\n",
    "\n",
    "**Checking our dataset size:** we now find out that we totally dropped 6 rows and added a new column"
   ]
  },
  {
   "cell_type": "code",
   "execution_count": 12,
   "metadata": {},
   "outputs": [],
   "source": [
    "#dropping unnecessary data\n",
    "data.drop(['PatientId','AppointmentID'],axis=1,inplace=True)"
   ]
  },
  {
   "cell_type": "code",
   "execution_count": 13,
   "metadata": {},
   "outputs": [],
   "source": [
    "#change string into datetime\n",
    "#we calculate the delay time between scheduling and appointment day\n",
    "data['AppointmentDay'] = data['AppointmentDay'].str[:10].apply(pd.to_datetime)\n",
    "data['ScheduledDay'] = data['ScheduledDay'].str[:10].apply(pd.to_datetime)\n",
    "data['Delay_time'] = data['AppointmentDay'] - data['ScheduledDay']\n",
    "data['Delay_time'] = data['Delay_time'].astype(str)\n",
    "#we only calculate the difference in days, ignoring hours and minutes\n",
    "data['Delay_time'] = data['Delay_time'].apply(lambda x: x.split(\" \")[0])\n",
    "data['Delay_time'] = data['Delay_time'].astype(int)"
   ]
  },
  {
   "cell_type": "code",
   "execution_count": 14,
   "metadata": {},
   "outputs": [
    {
     "data": {
      "text/plain": [
       "Gender                    object\n",
       "ScheduledDay      datetime64[ns]\n",
       "AppointmentDay    datetime64[ns]\n",
       "Age                        int64\n",
       "Neighbourhood             object\n",
       "Scholarship                int64\n",
       "Hipertension               int64\n",
       "Diabetes                   int64\n",
       "Alcoholism                 int64\n",
       "Handcap                    int64\n",
       "SMS_received               int64\n",
       "No-show                   object\n",
       "Delay_time                 int32\n",
       "dtype: object"
      ]
     },
     "execution_count": 14,
     "metadata": {},
     "output_type": "execute_result"
    }
   ],
   "source": [
    "data.dtypes"
   ]
  },
  {
   "cell_type": "code",
   "execution_count": 15,
   "metadata": {},
   "outputs": [],
   "source": [
    "#for babies less than 6 months, their age would be zero in years when converted to integer (Rounding up)\n",
    "data = data[data['Age']>=0]"
   ]
  },
  {
   "cell_type": "code",
   "execution_count": 16,
   "metadata": {},
   "outputs": [],
   "source": [
    "#since it is T or F question, we converted all other results >1 to be 1 since they are many rows\n",
    "#then check the dataset again\n",
    "#then I use describe to make sure the max value is 1\n",
    "data['Handcap'].values[data['Handcap'].values>1] = 1"
   ]
  },
  {
   "cell_type": "code",
   "execution_count": 17,
   "metadata": {},
   "outputs": [
    {
     "data": {
      "text/html": [
       "<div>\n",
       "<style scoped>\n",
       "    .dataframe tbody tr th:only-of-type {\n",
       "        vertical-align: middle;\n",
       "    }\n",
       "\n",
       "    .dataframe tbody tr th {\n",
       "        vertical-align: top;\n",
       "    }\n",
       "\n",
       "    .dataframe thead th {\n",
       "        text-align: right;\n",
       "    }\n",
       "</style>\n",
       "<table border=\"1\" class=\"dataframe\">\n",
       "  <thead>\n",
       "    <tr style=\"text-align: right;\">\n",
       "      <th></th>\n",
       "      <th>Age</th>\n",
       "      <th>Scholarship</th>\n",
       "      <th>Hipertension</th>\n",
       "      <th>Diabetes</th>\n",
       "      <th>Alcoholism</th>\n",
       "      <th>Handcap</th>\n",
       "      <th>SMS_received</th>\n",
       "      <th>Delay_time</th>\n",
       "    </tr>\n",
       "  </thead>\n",
       "  <tbody>\n",
       "    <tr>\n",
       "      <th>count</th>\n",
       "      <td>110521.000000</td>\n",
       "      <td>110521.000000</td>\n",
       "      <td>110521.000000</td>\n",
       "      <td>110521.000000</td>\n",
       "      <td>110521.000000</td>\n",
       "      <td>110521.000000</td>\n",
       "      <td>110521.000000</td>\n",
       "      <td>110521.000000</td>\n",
       "    </tr>\n",
       "    <tr>\n",
       "      <th>mean</th>\n",
       "      <td>37.089386</td>\n",
       "      <td>0.098271</td>\n",
       "      <td>0.197257</td>\n",
       "      <td>0.071869</td>\n",
       "      <td>0.030401</td>\n",
       "      <td>0.020259</td>\n",
       "      <td>0.321043</td>\n",
       "      <td>10.184345</td>\n",
       "    </tr>\n",
       "    <tr>\n",
       "      <th>std</th>\n",
       "      <td>23.109885</td>\n",
       "      <td>0.297682</td>\n",
       "      <td>0.397929</td>\n",
       "      <td>0.258272</td>\n",
       "      <td>0.171690</td>\n",
       "      <td>0.140884</td>\n",
       "      <td>0.466879</td>\n",
       "      <td>15.255153</td>\n",
       "    </tr>\n",
       "    <tr>\n",
       "      <th>min</th>\n",
       "      <td>0.000000</td>\n",
       "      <td>0.000000</td>\n",
       "      <td>0.000000</td>\n",
       "      <td>0.000000</td>\n",
       "      <td>0.000000</td>\n",
       "      <td>0.000000</td>\n",
       "      <td>0.000000</td>\n",
       "      <td>0.000000</td>\n",
       "    </tr>\n",
       "    <tr>\n",
       "      <th>25%</th>\n",
       "      <td>18.000000</td>\n",
       "      <td>0.000000</td>\n",
       "      <td>0.000000</td>\n",
       "      <td>0.000000</td>\n",
       "      <td>0.000000</td>\n",
       "      <td>0.000000</td>\n",
       "      <td>0.000000</td>\n",
       "      <td>0.000000</td>\n",
       "    </tr>\n",
       "    <tr>\n",
       "      <th>50%</th>\n",
       "      <td>37.000000</td>\n",
       "      <td>0.000000</td>\n",
       "      <td>0.000000</td>\n",
       "      <td>0.000000</td>\n",
       "      <td>0.000000</td>\n",
       "      <td>0.000000</td>\n",
       "      <td>0.000000</td>\n",
       "      <td>4.000000</td>\n",
       "    </tr>\n",
       "    <tr>\n",
       "      <th>75%</th>\n",
       "      <td>55.000000</td>\n",
       "      <td>0.000000</td>\n",
       "      <td>0.000000</td>\n",
       "      <td>0.000000</td>\n",
       "      <td>0.000000</td>\n",
       "      <td>0.000000</td>\n",
       "      <td>1.000000</td>\n",
       "      <td>15.000000</td>\n",
       "    </tr>\n",
       "    <tr>\n",
       "      <th>max</th>\n",
       "      <td>115.000000</td>\n",
       "      <td>1.000000</td>\n",
       "      <td>1.000000</td>\n",
       "      <td>1.000000</td>\n",
       "      <td>1.000000</td>\n",
       "      <td>1.000000</td>\n",
       "      <td>1.000000</td>\n",
       "      <td>179.000000</td>\n",
       "    </tr>\n",
       "  </tbody>\n",
       "</table>\n",
       "</div>"
      ],
      "text/plain": [
       "                 Age    Scholarship   Hipertension       Diabetes  \\\n",
       "count  110521.000000  110521.000000  110521.000000  110521.000000   \n",
       "mean       37.089386       0.098271       0.197257       0.071869   \n",
       "std        23.109885       0.297682       0.397929       0.258272   \n",
       "min         0.000000       0.000000       0.000000       0.000000   \n",
       "25%        18.000000       0.000000       0.000000       0.000000   \n",
       "50%        37.000000       0.000000       0.000000       0.000000   \n",
       "75%        55.000000       0.000000       0.000000       0.000000   \n",
       "max       115.000000       1.000000       1.000000       1.000000   \n",
       "\n",
       "          Alcoholism        Handcap   SMS_received     Delay_time  \n",
       "count  110521.000000  110521.000000  110521.000000  110521.000000  \n",
       "mean        0.030401       0.020259       0.321043      10.184345  \n",
       "std         0.171690       0.140884       0.466879      15.255153  \n",
       "min         0.000000       0.000000       0.000000       0.000000  \n",
       "25%         0.000000       0.000000       0.000000       0.000000  \n",
       "50%         0.000000       0.000000       0.000000       4.000000  \n",
       "75%         0.000000       0.000000       1.000000      15.000000  \n",
       "max         1.000000       1.000000       1.000000     179.000000  "
      ]
     },
     "execution_count": 17,
     "metadata": {},
     "output_type": "execute_result"
    }
   ],
   "source": [
    "#Appointment day can't be earlier than scheduledday so\n",
    "Wrong_data_entry = data['Delay_time']<0\n",
    "Wrong_data_entry.sum()\n",
    "#since they are only 5 rows out of 100,000 rows, we can ignore them since they all also have same\n",
    "#feature of not shoiwng to an appointment, which makes it sound misleading\n",
    "#We use describe then to make sure that all data are consistent\n",
    "data = data[data['Delay_time']>=0]\n",
    "data.describe()"
   ]
  },
  {
   "cell_type": "code",
   "execution_count": 18,
   "metadata": {},
   "outputs": [],
   "source": [
    "#we added this column to be used in visualiziation and exploring data\n",
    "#no show is 0, show is 1\n",
    "data['Show'] = np.where(data['No-show'] == 'No', 1,0)"
   ]
  },
  {
   "cell_type": "code",
   "execution_count": 19,
   "metadata": {},
   "outputs": [],
   "source": [
    "#we added this column which indicates if the patient has history with any kind of these diseases or not\n",
    "ill = (data['Hipertension'] ==1) | (data['Diabetes'] ==1) | (data['Alcoholism'] ==1) | (data['Handcap'] ==1)\n",
    "data['illness'] = np.where(ill,1,0)"
   ]
  },
  {
   "cell_type": "code",
   "execution_count": 20,
   "metadata": {},
   "outputs": [
    {
     "data": {
      "text/html": [
       "<div>\n",
       "<style scoped>\n",
       "    .dataframe tbody tr th:only-of-type {\n",
       "        vertical-align: middle;\n",
       "    }\n",
       "\n",
       "    .dataframe tbody tr th {\n",
       "        vertical-align: top;\n",
       "    }\n",
       "\n",
       "    .dataframe thead th {\n",
       "        text-align: right;\n",
       "    }\n",
       "</style>\n",
       "<table border=\"1\" class=\"dataframe\">\n",
       "  <thead>\n",
       "    <tr style=\"text-align: right;\">\n",
       "      <th></th>\n",
       "      <th>Gender</th>\n",
       "      <th>ScheduledDay</th>\n",
       "      <th>AppointmentDay</th>\n",
       "      <th>Age</th>\n",
       "      <th>Neighbourhood</th>\n",
       "      <th>Scholarship</th>\n",
       "      <th>Hipertension</th>\n",
       "      <th>Diabetes</th>\n",
       "      <th>Alcoholism</th>\n",
       "      <th>Handcap</th>\n",
       "      <th>SMS_received</th>\n",
       "      <th>No-show</th>\n",
       "      <th>Delay_time</th>\n",
       "      <th>Show</th>\n",
       "      <th>illness</th>\n",
       "    </tr>\n",
       "  </thead>\n",
       "  <tbody>\n",
       "    <tr>\n",
       "      <th>0</th>\n",
       "      <td>F</td>\n",
       "      <td>2016-04-29</td>\n",
       "      <td>2016-04-29</td>\n",
       "      <td>62</td>\n",
       "      <td>JARDIM DA PENHA</td>\n",
       "      <td>0</td>\n",
       "      <td>1</td>\n",
       "      <td>0</td>\n",
       "      <td>0</td>\n",
       "      <td>0</td>\n",
       "      <td>0</td>\n",
       "      <td>No</td>\n",
       "      <td>0</td>\n",
       "      <td>1</td>\n",
       "      <td>1</td>\n",
       "    </tr>\n",
       "    <tr>\n",
       "      <th>1</th>\n",
       "      <td>M</td>\n",
       "      <td>2016-04-29</td>\n",
       "      <td>2016-04-29</td>\n",
       "      <td>56</td>\n",
       "      <td>JARDIM DA PENHA</td>\n",
       "      <td>0</td>\n",
       "      <td>0</td>\n",
       "      <td>0</td>\n",
       "      <td>0</td>\n",
       "      <td>0</td>\n",
       "      <td>0</td>\n",
       "      <td>No</td>\n",
       "      <td>0</td>\n",
       "      <td>1</td>\n",
       "      <td>0</td>\n",
       "    </tr>\n",
       "    <tr>\n",
       "      <th>2</th>\n",
       "      <td>F</td>\n",
       "      <td>2016-04-29</td>\n",
       "      <td>2016-04-29</td>\n",
       "      <td>62</td>\n",
       "      <td>MATA DA PRAIA</td>\n",
       "      <td>0</td>\n",
       "      <td>0</td>\n",
       "      <td>0</td>\n",
       "      <td>0</td>\n",
       "      <td>0</td>\n",
       "      <td>0</td>\n",
       "      <td>No</td>\n",
       "      <td>0</td>\n",
       "      <td>1</td>\n",
       "      <td>0</td>\n",
       "    </tr>\n",
       "    <tr>\n",
       "      <th>3</th>\n",
       "      <td>F</td>\n",
       "      <td>2016-04-29</td>\n",
       "      <td>2016-04-29</td>\n",
       "      <td>8</td>\n",
       "      <td>PONTAL DE CAMBURI</td>\n",
       "      <td>0</td>\n",
       "      <td>0</td>\n",
       "      <td>0</td>\n",
       "      <td>0</td>\n",
       "      <td>0</td>\n",
       "      <td>0</td>\n",
       "      <td>No</td>\n",
       "      <td>0</td>\n",
       "      <td>1</td>\n",
       "      <td>0</td>\n",
       "    </tr>\n",
       "    <tr>\n",
       "      <th>4</th>\n",
       "      <td>F</td>\n",
       "      <td>2016-04-29</td>\n",
       "      <td>2016-04-29</td>\n",
       "      <td>56</td>\n",
       "      <td>JARDIM DA PENHA</td>\n",
       "      <td>0</td>\n",
       "      <td>1</td>\n",
       "      <td>1</td>\n",
       "      <td>0</td>\n",
       "      <td>0</td>\n",
       "      <td>0</td>\n",
       "      <td>No</td>\n",
       "      <td>0</td>\n",
       "      <td>1</td>\n",
       "      <td>1</td>\n",
       "    </tr>\n",
       "  </tbody>\n",
       "</table>\n",
       "</div>"
      ],
      "text/plain": [
       "  Gender ScheduledDay AppointmentDay  Age      Neighbourhood  Scholarship  \\\n",
       "0      F   2016-04-29     2016-04-29   62    JARDIM DA PENHA            0   \n",
       "1      M   2016-04-29     2016-04-29   56    JARDIM DA PENHA            0   \n",
       "2      F   2016-04-29     2016-04-29   62      MATA DA PRAIA            0   \n",
       "3      F   2016-04-29     2016-04-29    8  PONTAL DE CAMBURI            0   \n",
       "4      F   2016-04-29     2016-04-29   56    JARDIM DA PENHA            0   \n",
       "\n",
       "   Hipertension  Diabetes  Alcoholism  Handcap  SMS_received No-show  \\\n",
       "0             1         0           0        0             0      No   \n",
       "1             0         0           0        0             0      No   \n",
       "2             0         0           0        0             0      No   \n",
       "3             0         0           0        0             0      No   \n",
       "4             1         1           0        0             0      No   \n",
       "\n",
       "   Delay_time  Show  illness  \n",
       "0           0     1        1  \n",
       "1           0     1        0  \n",
       "2           0     1        0  \n",
       "3           0     1        0  \n",
       "4           0     1        1  "
      ]
     },
     "execution_count": 20,
     "metadata": {},
     "output_type": "execute_result"
    }
   ],
   "source": [
    "data.head()"
   ]
  },
  {
   "cell_type": "code",
   "execution_count": 21,
   "metadata": {},
   "outputs": [
    {
     "data": {
      "text/plain": [
       "(110521, 15)"
      ]
     },
     "execution_count": 21,
     "metadata": {},
     "output_type": "execute_result"
    }
   ],
   "source": [
    "#we see here that we removed total of 6 rows and added 3 columns\n",
    "data.shape"
   ]
  },
  {
   "cell_type": "markdown",
   "metadata": {},
   "source": [
    "<a id='eda'></a>\n",
    "## Exploratory Data Analysis\n",
    "\n",
    "**Histogram**:\n",
    "which shows the percentage of all data as overall\n",
    "\n",
    "**Pie Chart:**\n",
    "which shows the percentage of people who No-showed"
   ]
  },
  {
   "cell_type": "code",
   "execution_count": 22,
   "metadata": {},
   "outputs": [
    {
     "data": {
      "text/plain": [
       "array([[<matplotlib.axes._subplots.AxesSubplot object at 0x00000163C42E8588>,\n",
       "        <matplotlib.axes._subplots.AxesSubplot object at 0x00000163C9784C88>,\n",
       "        <matplotlib.axes._subplots.AxesSubplot object at 0x00000163C9541C08>],\n",
       "       [<matplotlib.axes._subplots.AxesSubplot object at 0x00000163C6196D08>,\n",
       "        <matplotlib.axes._subplots.AxesSubplot object at 0x00000163C61CDE08>,\n",
       "        <matplotlib.axes._subplots.AxesSubplot object at 0x00000163C6205F48>],\n",
       "       [<matplotlib.axes._subplots.AxesSubplot object at 0x00000163C6244088>,\n",
       "        <matplotlib.axes._subplots.AxesSubplot object at 0x00000163C6280F88>,\n",
       "        <matplotlib.axes._subplots.AxesSubplot object at 0x00000163C62B32C8>],\n",
       "       [<matplotlib.axes._subplots.AxesSubplot object at 0x00000163C62EC3C8>,\n",
       "        <matplotlib.axes._subplots.AxesSubplot object at 0x00000163C6324488>,\n",
       "        <matplotlib.axes._subplots.AxesSubplot object at 0x00000163C67AC688>]],\n",
       "      dtype=object)"
      ]
     },
     "execution_count": 22,
     "metadata": {},
     "output_type": "execute_result"
    },
    {
     "data": {
      "image/png": "[encoded data removed]",
      "text/plain": [
       "<Figure size 720x720 with 12 Axes>"
      ]
     },
     "metadata": {
      "needs_background": "light"
     },
     "output_type": "display_data"
    }
   ],
   "source": [
    "#to show an overall histogram matrix of all data present\n",
    "data.hist(figsize = (10,10))"
   ]
  },
  {
   "cell_type": "code",
   "execution_count": 34,
   "metadata": {},
   "outputs": [
    {
     "data": {
      "image/png": "[encoded data removed]",
      "text/plain": [
       "<Figure size 432x288 with 1 Axes>"
      ]
     },
     "metadata": {},
     "output_type": "display_data"
    }
   ],
   "source": [
    "#Pie chart to show how many people have not showed at time\n",
    "data['No-show'].value_counts()\n",
    "Total_show = data['No-show'].value_counts()\n",
    "plt.pie(Total_show,labels = ['No','Yes'],autopct='%.1f')\n",
    "plt.title('No Show Percentage of all dataset');"
   ]
  },
  {
   "cell_type": "markdown",
   "metadata": {},
   "source": [
    "### Research Question 1 (Is there a correlation between Gender and No-Show?)"
   ]
  },
  {
   "cell_type": "code",
   "execution_count": 35,
   "metadata": {},
   "outputs": [
    {
     "data": {
      "image/png": "[encoded data removed]",
      "text/plain": [
       "<Figure size 432x288 with 1 Axes>"
      ]
     },
     "metadata": {
      "needs_background": "light"
     },
     "output_type": "display_data"
    }
   ],
   "source": [
    "#we make masks for both males and females\n",
    "Males = data['Gender'] == 'M'\n",
    "Females = data['Gender'] == 'F'\n",
    "\n",
    "#count number of males and females, we found out that females are double the males number\n",
    "Males.value_counts()\n",
    "\n",
    "#make masks for percentage of No-show for both Males and Females\n",
    "Males_no_show_mask = (data['No-show'][Males].value_counts()*100)/data['No-show'][Males].value_counts().sum()\n",
    "Females_no_show_mask = (data['No-show'][Females].value_counts()*100)/data['No-show'][Females].value_counts().sum()\n",
    "No_show_Gender = pd.DataFrame({'Males':Males_no_show_mask,'Females':Females_no_show_mask})\n",
    "\n",
    "#plot the masks\n",
    "No_show_Gender.plot(kind='bar',width=0.2)\n",
    "plt.legend()\n",
    "plt.ylabel('Percentage %');\n",
    "plt.title(\"Probability of No Show of each Gender\");"
   ]
  },
  {
   "cell_type": "markdown",
   "metadata": {},
   "source": [
    "**Findings:** \\\n",
    "We find out that Females appointments are double the number of Males appointments so we can not compare both to each other (70,000 Females and 35,000 Males), instead we would use the perecentage of No show of each gender and the results were shown in the chart \n",
    "\n",
    "Results show that almost the same percentage of eacgh gender did not show (22%)\n",
    "\n",
    "**Conclusion:** \\\n",
    "We now conclude the Gender does not have a correlation to No show data"
   ]
  },
  {
   "cell_type": "markdown",
   "metadata": {},
   "source": [
    "### Research Question 2  (Does some neighbourhoods have high or low No-Show?)"
   ]
  },
  {
   "cell_type": "code",
   "execution_count": 36,
   "metadata": {},
   "outputs": [
    {
     "data": {
      "text/plain": [
       "7"
      ]
     },
     "execution_count": 36,
     "metadata": {},
     "output_type": "execute_result"
    }
   ],
   "source": [
    "#we group the data by neighbourhood to see if it affects shoiwng or not and find statistics of it\n",
    "data.groupby('Neighbourhood')['Show'].mean().describe()\n",
    "#we find the mean is 0.795\n",
    "#discover the neighbourhoods which showed zero and 100 percent showing\n",
    "Show_Neighbourhood = data.groupby('Neighbourhood')['Show'].mean().reset_index()\n",
    "Show_Neighbourhood\n",
    "#Neighbourhoods with few samples\n",
    "(data['Neighbourhood'].value_counts()<100).sum()"
   ]
  },
  {
   "cell_type": "code",
   "execution_count": 37,
   "metadata": {},
   "outputs": [
    {
     "data": {
      "text/html": [
       "<div>\n",
       "<style scoped>\n",
       "    .dataframe tbody tr th:only-of-type {\n",
       "        vertical-align: middle;\n",
       "    }\n",
       "\n",
       "    .dataframe tbody tr th {\n",
       "        vertical-align: top;\n",
       "    }\n",
       "\n",
       "    .dataframe thead th {\n",
       "        text-align: right;\n",
       "    }\n",
       "</style>\n",
       "<table border=\"1\" class=\"dataframe\">\n",
       "  <thead>\n",
       "    <tr style=\"text-align: right;\">\n",
       "      <th></th>\n",
       "      <th>Neighbourhood</th>\n",
       "      <th>Show</th>\n",
       "      <th>No. of samples</th>\n",
       "    </tr>\n",
       "  </thead>\n",
       "  <tbody>\n",
       "    <tr>\n",
       "      <th>51</th>\n",
       "      <td>PARQUE INDUSTRIAL</td>\n",
       "      <td>1.0</td>\n",
       "      <td>1</td>\n",
       "    </tr>\n",
       "    <tr>\n",
       "      <th>34</th>\n",
       "      <td>ILHAS OCEÂNICAS DE TRINDADE</td>\n",
       "      <td>0.0</td>\n",
       "      <td>2</td>\n",
       "    </tr>\n",
       "  </tbody>\n",
       "</table>\n",
       "</div>"
      ],
      "text/plain": [
       "                  Neighbourhood  Show  No. of samples\n",
       "51            PARQUE INDUSTRIAL   1.0               1\n",
       "34  ILHAS OCEÂNICAS DE TRINDADE   0.0               2"
      ]
     },
     "execution_count": 37,
     "metadata": {},
     "output_type": "execute_result"
    }
   ],
   "source": [
    "#Abnormal show data of Neighbourhoods\n",
    "N_zero = Show_Neighbourhood[Show_Neighbourhood['Show']==1] \n",
    "N_full = Show_Neighbourhood[Show_Neighbourhood['Show']==0]\n",
    "Show_Neighbourhood_deviations = N_zero.append(N_full)\n",
    "Show_Neighbourhood_deviations['No. of samples'] =[(data['Neighbourhood'] == 'PARQUE INDUSTRIAL').sum(),\n",
    "                                                  (data['Neighbourhood'] == 'ILHAS OCEÂNICAS DE TRINDADE').sum()]\n",
    "Show_Neighbourhood_deviations"
   ]
  },
  {
   "cell_type": "markdown",
   "metadata": {},
   "source": [
    "**Findings:** \n",
    "\n",
    "We find out that the mean of attendance is around 80% of each neighbourhood with some exceptions \\\n",
    "Exceptions We found out are one Neighbourhood with 100% showing and one Neigbourhood with 0% showing, which when explored more; we found out that we only have one and two samples of each neighbourhood, which means we can not correlate attendance to those neighbourhoods \\\n",
    "\n",
    "When we discovered number of samples obtained from each Neighbourhood, we found out that there are 7 neighbourhoods with less than 100 samples, which are limitation of the dataset that we need more samples of those neghbourhoods to correlate to them\n",
    "\n",
    "**Conclusion:** \\\n",
    "The neighbourhood section has limitations of few samples of some neigbourhoods"
   ]
  },
  {
   "cell_type": "markdown",
   "metadata": {},
   "source": [
    "### Research Question 3  (Is there a correlation between Age and No Show?)"
   ]
  },
  {
   "cell_type": "code",
   "execution_count": 38,
   "metadata": {},
   "outputs": [],
   "source": [
    "#Making Age Masks\n",
    "kids = data['Age'] <= 10\n",
    "Teenagers = (data['Age'] >10) & (data['Age'] <=20)\n",
    "Young = (data['Age'] >20) & (data['Age'] <=30) \n",
    "Middle_Age = (data['Age'] >30) & (data['Age'] <=45)\n",
    "Old = (data['Age'] >45) & (data['Age'] <=70)\n",
    "Very_old = data['Age'] >70\n",
    "Mask = [kids, Teenagers, Young, Middle_Age, Old, Very_old]"
   ]
  },
  {
   "cell_type": "code",
   "execution_count": 39,
   "metadata": {},
   "outputs": [
    {
     "data": {
      "image/png": "[encoded data removed]",
      "text/plain": [
       "<Figure size 432x288 with 1 Axes>"
      ]
     },
     "metadata": {
      "needs_background": "light"
     },
     "output_type": "display_data"
    }
   ],
   "source": [
    "#Making a dataframe including means for each mask\n",
    "df=[]\n",
    "for i in Mask:\n",
    "    df.append(data[i]['Show'].mean())\n",
    "df\n",
    "Age_df= pd.DataFrame(df)\n",
    "Age_class = pd.DataFrame({'Age':['kids','Teenagers','Young','Middle_Age','old','very_old']})\n",
    "#joining 2 dataframes together\n",
    "Age_Show = Age_class.join(Age_df)\n",
    "Age_Show.columns = ['Age_class','Average.']\n",
    "Age_Show.plot('Age_class','Average.',kind='bar')\n",
    "plt.ylabel(\"Showing Percentage %\");\n",
    "plt.title('Probability of showing vs. Age classification');"
   ]
  },
  {
   "cell_type": "markdown",
   "metadata": {},
   "source": [
    "**Findings:** \n",
    "\n",
    "We can see that except for kids, the showing percentage increases as the age increases, with the highest show up for very old people.\n",
    "\n",
    "It can also be clear that kids showing up is high due to the fact that their parents take them to the appointments, so it is affected by their parents ages who are usually above Middle age\n",
    "\n",
    "**Conclusion:**\n",
    "\n",
    "There is a positive relationship between age and shwoing up"
   ]
  },
  {
   "cell_type": "markdown",
   "metadata": {},
   "source": [
    "### Research Question 4  (Is there a correlation between Delay time and No Show?)"
   ]
  },
  {
   "cell_type": "code",
   "execution_count": 40,
   "metadata": {},
   "outputs": [],
   "source": [
    "#Delay time masks\n",
    "short_period = data.Delay_time <= 7\n",
    "normal_period = (data.Delay_time >7)&(data.Delay_time <= 14)\n",
    "long_period = (data.Delay_time >14)&(data.Delay_time <= 28)\n",
    "very_long_period = (data.Delay_time >28)\n",
    "Delay_mask = [short_period,normal_period,long_period,very_long_period]"
   ]
  },
  {
   "cell_type": "code",
   "execution_count": 41,
   "metadata": {},
   "outputs": [
    {
     "data": {
      "image/png": "[encoded data removed]",
      "text/plain": [
       "<Figure size 432x288 with 1 Axes>"
      ]
     },
     "metadata": {
      "needs_background": "light"
     },
     "output_type": "display_data"
    }
   ],
   "source": [
    "#Making a dataframe including means for each mask\n",
    "df=[]\n",
    "for i in Delay_mask:\n",
    "    df.append(data[i]['Show'].mean())\n",
    "df\n",
    "delay_df= pd.DataFrame(df)\n",
    "Delay_class = pd.DataFrame({'Delay':['short_period','normal_period','long_period','very_long_period']})\n",
    "#joining 2 dataframes together\n",
    "Delay_Show = Delay_class.join(delay_df)\n",
    "Delay_Show.columns = ['Delay_class','Average']\n",
    "Delay_Show.plot('Delay_class','Average',kind='bar')\n",
    "plt.ylabel(\"Showing Percentage %\");\n",
    "plt.title(\"Probability of showing vs. waiting time\");"
   ]
  },
  {
   "cell_type": "markdown",
   "metadata": {},
   "source": [
    "**Findings:**\n",
    "\n",
    "There are big variety of the number of days between appointment and the schedling Dates and it must have an effect on the No.Show\n",
    "\n",
    "**Results:**\n",
    "\n",
    "There is a negative relationship between delay time and the showing at appointment as shown in the plot \\\n",
    "Appointments within same week are most likely to be attended"
   ]
  },
  {
   "cell_type": "markdown",
   "metadata": {},
   "source": [
    "### Research Question 5  (Is there a correlation between SMS messages and No Show?)"
   ]
  },
  {
   "cell_type": "code",
   "execution_count": 42,
   "metadata": {},
   "outputs": [
    {
     "data": {
      "image/png": "[encoded data removed]",
      "text/plain": [
       "<Figure size 432x288 with 1 Axes>"
      ]
     },
     "metadata": {
      "needs_background": "light"
     },
     "output_type": "display_data"
    }
   ],
   "source": [
    "#making mask for People who SMS message\n",
    "SMS_sent_mask_show = data['SMS_received'] == 1\n",
    "\n",
    "SMS_show = data.groupby(SMS_sent_mask_show)['Show'].mean().reset_index()\n",
    "ax = SMS_show.plot.bar()\n",
    "ax.set_xticklabels(['No','Yes']);\n",
    "plt.title(\"Probability of showing vs. recieving SMS messaeges\");\n",
    "plt.ylabel('Average Percentage');\n",
    "plt.legend();"
   ]
  },
  {
   "cell_type": "markdown",
   "metadata": {},
   "source": [
    "**Findings:** \n",
    "It has been shown that almost 33% of people have messages sent, and then we compared the possibility that someone has received a message would attend the appointment or not\n",
    "\n",
    "**Conclusion:**\n",
    "It has been seen that the average percentage of people who received the messages and attended is lower than those who did not attend, which makes no sense or it maybe mentions that the message is written in a not professional way or containing wrong informations"
   ]
  },
  {
   "cell_type": "markdown",
   "metadata": {},
   "source": [
    "### Research Question 6  (Is there a correlation between Scholarship and No Show?)"
   ]
  },
  {
   "cell_type": "code",
   "execution_count": 45,
   "metadata": {},
   "outputs": [
    {
     "data": {
      "image/png": "[encoded data removed]",
      "text/plain": [
       "<Figure size 432x288 with 1 Axes>"
      ]
     },
     "metadata": {
      "needs_background": "light"
     },
     "output_type": "display_data"
    }
   ],
   "source": [
    "#making mask for People who got a scholarship\n",
    "Scholarship = data['Scholarship'] == 1\n",
    "\n",
    "Scholarship_show = data.groupby(Scholarship)['Show'].mean().reset_index()\n",
    "ax = Scholarship_show.plot.bar()\n",
    "ax.set_xticklabels(['No','Yes']);\n",
    "plt.title(\"Probability of showing vs. having Scholarship\");\n",
    "plt.ylabel('Average Percentage');\n",
    "plt.legend();"
   ]
  },
  {
   "cell_type": "markdown",
   "metadata": {},
   "source": [
    "**Findings:** \n",
    "It has been shown that almost 10% of people have scholarships, and then we compared the possibility that someone has a scholarship would attend the appointment or not\n",
    "\n",
    "**Conclusion:**\n",
    "It has been seen that the average percentage of people who have a scholarship and attended is lower than those who did not attend, which makes sense that they are busier "
   ]
  },
  {
   "cell_type": "markdown",
   "metadata": {},
   "source": [
    "### Research Question 7  (Is there a correlation between illness history and No Show?)"
   ]
  },
  {
   "cell_type": "code",
   "execution_count": 44,
   "metadata": {},
   "outputs": [
    {
     "data": {
      "image/png": "[encoded data removed]",
      "text/plain": [
       "<Figure size 432x288 with 1 Axes>"
      ]
     },
     "metadata": {
      "needs_background": "light"
     },
     "output_type": "display_data"
    }
   ],
   "source": [
    "#Making mask for people who had illness history\n",
    "ill_data = data[['illness','Show']]\n",
    "ill_show = ill_data.groupby('illness')['Show'].mean().reset_index()\n",
    "ax=ill_show.plot('illness','Show',kind='bar')\n",
    "ax.set_xticklabels(['No','Yes']);\n",
    "plt.title(\"Probability of Showing vs. having ill history\");\n",
    "plt.ylabel('Average Percentage');\n",
    "plt.legend();"
   ]
  },
  {
   "cell_type": "markdown",
   "metadata": {},
   "source": [
    "**Findings:** \n",
    "It has been shown that almost 25% of people have illness history, and then we compared the possibility that someone has history with illness would attend the appointment or not\n",
    "\n",
    "**Conclusion:**\n",
    "It has been seen that the average percentage of people who have illness history and attended is higher than those who did not attend, which makes sense that they are more careful about their health "
   ]
  },
  {
   "cell_type": "markdown",
   "metadata": {},
   "source": [
    "<a id='conclusions'></a>\n",
    "## Conclusions\n",
    "\n",
    "***Conclusion:***\n",
    "\n",
    "*it is obvious that there is a positive relatonship between age classification and showing, As age classification increases, the probability to show up increases\n",
    "On the other hand, the mean age of cases is 37 years old\n",
    "\n",
    "*it is obvious that there is a direct relationship between illness history and attending the appointment, If the patient has a previous illness history; the probability to attend and show up is higher\n",
    "\n",
    "*it is obvious that there is a negative relationship between the duration between scheduling and attending the appointment, As the duration increases; the probability to attend and show up is lower\n",
    "\n",
    "*it is obvious that there is a negative relationship between having scholarship and attending the appointment, If the patient has a scholarship; the probability to attend and show up is lower\n",
    "\n",
    "*it is obvious that there is no correlation between the Gender and probability of showing up since both Males and Females have similar probabilities\n",
    "\n",
    "***Limitations:***\n",
    "\n",
    "*There are some data that has negative values of age, which is not logical\n",
    "\n",
    "*There are some data of handcap having values >1, which indicates a wrong data entry\n",
    "\n",
    "*There are some data that has appointment date prior to scheduleddate, which is not logical as well\n",
    "\n",
    "*There is not enough sample data from some neighbourhoods, which did not help us to find a correlation between the probability of showing up and the neighbourhood\n",
    "\n",
    "*Samples of people having Alcoholism, Diabetes, handcap, or scholarship are few compared to others who don't have, which may make this visualization not 100% precise since we would need more samples including higher percentage of them in each dataset.\n",
    "\n",
    "***Statistical Data:***\n",
    "\n",
    "*Histograms shows that the total percentage of showing up was around 80%\n",
    "\n",
    "*Histograms shows the distribution of patients age, mentioning that 75% of them were below 50 years old."
   ]
  },
  {
   "cell_type": "code",
   "execution_count": null,
   "metadata": {
    "collapsed": true
   },
   "outputs": [],
   "source": []
  }
 ],
 "metadata": {
  "kernelspec": {
   "display_name": "Python 3",
   "language": "python",
   "name": "python3"
  },
  "language_info": {
   "codemirror_mode": {
    "name": "ipython",
    "version": 3
   },
   "file_extension": ".py",
   "mimetype": "text/x-python",
   "name": "python",
   "nbconvert_exporter": "python",
   "pygments_lexer": "ipython3",
   "version": "3.7.6"
  }
 },
 "nbformat": 4,
 "nbformat_minor": 2
}
